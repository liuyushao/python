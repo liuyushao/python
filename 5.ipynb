{
  "nbformat": 4,
  "nbformat_minor": 0,
  "metadata": {
    "colab": {
      "name": "5",
      "provenance": [],
      "authorship_tag": "ABX9TyPSVxecGeioRmmbWwvSXVDk",
      "include_colab_link": true
    },
    "kernelspec": {
      "name": "python3",
      "display_name": "Python 3"
    },
    "language_info": {
      "name": "python"
    }
  },
  "cells": [
    {
      "cell_type": "markdown",
      "metadata": {
        "id": "view-in-github",
        "colab_type": "text"
      },
      "source": [
        "<a href=\"https://colab.research.google.com/github/liuyushao/python/blob/main/5.ipynb\" target=\"_parent\"><img src=\"https://colab.research.google.com/assets/colab-badge.svg\" alt=\"Open In Colab\"/></a>"
      ]
    },
    {
      "cell_type": "code",
      "execution_count": null,
      "metadata": {
        "id": "9Ygbi9AJqVxi"
      },
      "outputs": [],
      "source": [
        ""
      ]
    },
    {
      "cell_type": "markdown",
      "source": [
        "函式(數)\n",
        "傳統的寫法"
      ],
      "metadata": {
        "id": "i4TlMK3mqYIk"
      }
    },
    {
      "cell_type": "code",
      "source": [
        "import math\n",
        "radius = eval(input(\"請輸入圓的半徑：\")) #把輸入的字串變成數學計算型態\n",
        "print(\"圓的面積為：\", radius * radius * math.pi)"
      ],
      "metadata": {
        "colab": {
          "base_uri": "https://localhost:8080/"
        },
        "id": "ZowbaeWTqY0D",
        "outputId": "edb4dc23-bd30-4762-ae46-c5a6da53d17d"
      },
      "execution_count": 1,
      "outputs": [
        {
          "output_type": "stream",
          "name": "stdout",
          "text": [
            "請輸入圓的半徑：10\n",
            "圓的面積為： 314.1592653589793\n"
          ]
        }
      ]
    },
    {
      "cell_type": "markdown",
      "source": [
        "面積計算函示"
      ],
      "metadata": {
        "id": "-sTl73JYqdm7"
      }
    },
    {
      "cell_type": "code",
      "source": [
        "import math\n",
        "def circle_area(radius):\n",
        "    area = radius * radius * math.pi\n",
        "    return area\n",
        "\n",
        "print(circle_area(10))"
      ],
      "metadata": {
        "id": "Q9A2l5-1qeNk",
        "outputId": "81eaa0f9-291d-4744-bc83-5f6fbaf60eb7",
        "colab": {
          "base_uri": "https://localhost:8080/"
        }
      },
      "execution_count": 2,
      "outputs": [
        {
          "output_type": "stream",
          "name": "stdout",
          "text": [
            "314.1592653589793\n"
          ]
        }
      ]
    }
  ]
}