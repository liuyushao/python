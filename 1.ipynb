{
  "nbformat": 4,
  "nbformat_minor": 0,
  "metadata": {
    "colab": {
      "name": "1",
      "provenance": [],
      "authorship_tag": "ABX9TyNFyggCgIUUctef8bH9rcgH",
      "include_colab_link": true
    },
    "kernelspec": {
      "name": "python3",
      "display_name": "Python 3"
    },
    "language_info": {
      "name": "python"
    }
  },
  "cells": [
    {
      "cell_type": "markdown",
      "metadata": {
        "id": "view-in-github",
        "colab_type": "text"
      },
      "source": [
        "<a href=\"https://colab.research.google.com/github/liuyushao/python/blob/main/1.ipynb\" target=\"_parent\"><img src=\"https://colab.research.google.com/assets/colab-badge.svg\" alt=\"Open In Colab\"/></a>"
      ]
    },
    {
      "cell_type": "markdown",
      "source": [
        "註解"
      ],
      "metadata": {
        "id": "LK9w9FXAg25_"
      }
    },
    {
      "cell_type": "code",
      "source": [
        "a=3  #單行註解\n",
        "b=5\n",
        "print(a+b)"
      ],
      "metadata": {
        "colab": {
          "base_uri": "https://localhost:8080/"
        },
        "id": "TsXuIvDtg50N",
        "outputId": "519be743-769e-4cd5-f68e-e2e631fba4e9"
      },
      "execution_count": 26,
      "outputs": [
        {
          "output_type": "stream",
          "name": "stdout",
          "text": [
            "8\n"
          ]
        }
      ]
    },
    {
      "cell_type": "code",
      "source": [
        "'''\n",
        "多行註解\n",
        "多行註解\n",
        "多行註解\n",
        "'''\n",
        "a=3\n",
        "b=5\n",
        "print(a+b)"
      ],
      "metadata": {
        "colab": {
          "base_uri": "https://localhost:8080/"
        },
        "id": "XlJrblTFg8r5",
        "outputId": "cc410056-eba3-462d-dddb-07e120fc2610"
      },
      "execution_count": 25,
      "outputs": [
        {
          "output_type": "stream",
          "name": "stdout",
          "text": [
            "8\n"
          ]
        }
      ]
    },
    {
      "cell_type": "markdown",
      "source": [
        "運算式"
      ],
      "metadata": {
        "id": "MBe2UXkzg984"
      }
    },
    {
      "cell_type": "code",
      "source": [
        "#變數交換\n",
        "x=1\n",
        "y=10\n",
        "\n",
        "z=x\n",
        "x=y\n",
        "y=z\n",
        "print(x)\n",
        "print(y)"
      ],
      "metadata": {
        "colab": {
          "base_uri": "https://localhost:8080/"
        },
        "id": "CZCphPJ5g_O9",
        "outputId": "02b20f80-6516-406d-f92b-9faf43183fab"
      },
      "execution_count": 24,
      "outputs": [
        {
          "output_type": "stream",
          "name": "stdout",
          "text": [
            "10\n",
            "1\n"
          ]
        }
      ]
    },
    {
      "cell_type": "code",
      "source": [
        "x=1\n",
        "y=10\n",
        "\n",
        "x=x+y\n",
        "y=x-y\n",
        "x=x-y\n",
        "print(x)\n",
        "print(y)"
      ],
      "metadata": {
        "colab": {
          "base_uri": "https://localhost:8080/"
        },
        "id": "VLC1C0OJhAcQ",
        "outputId": "8af13945-48f6-4361-ac9b-1e4a26a119a2"
      },
      "execution_count": 23,
      "outputs": [
        {
          "output_type": "stream",
          "name": "stdout",
          "text": [
            "10\n",
            "1\n"
          ]
        }
      ]
    },
    {
      "cell_type": "code",
      "source": [
        "#python版本的變數交換\n",
        "x=1\n",
        "y=10\n",
        "x,y = y,x\n",
        "print(x)\n",
        "print(y)"
      ],
      "metadata": {
        "colab": {
          "base_uri": "https://localhost:8080/"
        },
        "id": "O9_BgVnxhBg9",
        "outputId": "e79ecc7b-e1d0-4d2e-a98e-cfef82e97752"
      },
      "execution_count": 22,
      "outputs": [
        {
          "output_type": "stream",
          "name": "stdout",
          "text": [
            "10\n",
            "1\n"
          ]
        }
      ]
    },
    {
      "cell_type": "markdown",
      "source": [
        "變數"
      ],
      "metadata": {
        "id": "ZYJrjYl8hDGR"
      }
    },
    {
      "cell_type": "markdown",
      "source": [
        "變數的平行設定"
      ],
      "metadata": {
        "id": "4p6FLwp7hEPz"
      }
    },
    {
      "cell_type": "code",
      "source": [
        "x, y, z= 3, 4, 5\n",
        "print(x)\n",
        "print(y)\n",
        "print(z)"
      ],
      "metadata": {
        "colab": {
          "base_uri": "https://localhost:8080/"
        },
        "id": "WskW4SJ9hGAU",
        "outputId": "b6a4cb0b-a891-4f92-bd67-dac98c7ca105"
      },
      "execution_count": 21,
      "outputs": [
        {
          "output_type": "stream",
          "name": "stdout",
          "text": [
            "3\n",
            "4\n",
            "5\n"
          ]
        }
      ]
    },
    {
      "cell_type": "code",
      "source": [
        "x, y, z = 3, 4, 5\n",
        "x += 1 #x=x+1\n",
        "y *= 2 #y=y*2\n",
        "z **= 3 #z^3\n",
        "print(x, y, z)"
      ],
      "metadata": {
        "colab": {
          "base_uri": "https://localhost:8080/"
        },
        "id": "Hkw5D4oNhHJh",
        "outputId": "f224c46d-57e7-453a-b901-efa527d953d8"
      },
      "execution_count": 20,
      "outputs": [
        {
          "output_type": "stream",
          "name": "stdout",
          "text": [
            "4 8 125\n"
          ]
        }
      ]
    },
    {
      "cell_type": "markdown",
      "source": [
        "變數的應用"
      ],
      "metadata": {
        "id": "unGtNfSZhIYI"
      }
    },
    {
      "cell_type": "markdown",
      "source": [
        "Q：邊長為3, 4, 5的三角形，其面積大小為何?\n",
        "海龍公式：\n",
        "s=(a+b+c)/2\n",
        "sqrt(s(s-a)(s-b)(s-c))"
      ],
      "metadata": {
        "id": "dpdTpcZbhKVJ"
      }
    },
    {
      "cell_type": "code",
      "source": [
        "import math\n",
        "a,b,c=3,4,5\n",
        "s=(a+b+c)/2\n",
        "d=math.sqrt(s*(s-a)*(s-b)*(s-c))\n",
        "print(d)"
      ],
      "metadata": {
        "colab": {
          "base_uri": "https://localhost:8080/"
        },
        "id": "Vna9hXcKhLdv",
        "outputId": "cba6faed-27ad-426f-b7f3-157aae318a1c"
      },
      "execution_count": 19,
      "outputs": [
        {
          "output_type": "stream",
          "name": "stdout",
          "text": [
            "6.0\n"
          ]
        }
      ]
    },
    {
      "cell_type": "markdown",
      "source": [
        "Q：半徑為10的圓形，其面積大小為何?"
      ],
      "metadata": {
        "id": "MaLRyijHhP27"
      }
    },
    {
      "cell_type": "code",
      "source": [
        "import math\n",
        "r=10\n",
        "print(r*r*math.pi)"
      ],
      "metadata": {
        "colab": {
          "base_uri": "https://localhost:8080/"
        },
        "id": "soK9qF4phSV-",
        "outputId": "2204f1d4-8bab-4a63-d277-5c5eb96dde6a"
      },
      "execution_count": 18,
      "outputs": [
        {
          "output_type": "stream",
          "name": "stdout",
          "text": [
            "314.1592653589793\n"
          ]
        }
      ]
    },
    {
      "cell_type": "markdown",
      "source": [
        "資料型別"
      ],
      "metadata": {
        "id": "YeCLVp1jhTYp"
      }
    },
    {
      "cell_type": "markdown",
      "source": [
        "python屬於動態類型變數，使用前不需要宣告資料型態\n",
        "\n"
      ],
      "metadata": {
        "id": "93HBN0rYhVJy"
      }
    },
    {
      "cell_type": "code",
      "source": [
        "x=254\n",
        "print(type(x))\n",
        "y=254.0\n",
        "print(type(y))\n",
        "z='write'\n",
        "print(type(z))\n",
        "print(type(x==y))\n"
      ],
      "metadata": {
        "colab": {
          "base_uri": "https://localhost:8080/"
        },
        "id": "_e_ccG4JhWnh",
        "outputId": "425a9633-13fd-4780-a9a9-2ab41ec233be"
      },
      "execution_count": 17,
      "outputs": [
        {
          "output_type": "stream",
          "name": "stdout",
          "text": [
            "<class 'int'>\n",
            "<class 'float'>\n",
            "<class 'str'>\n",
            "<class 'bool'>\n"
          ]
        }
      ]
    },
    {
      "cell_type": "markdown",
      "source": [
        "算術符號"
      ],
      "metadata": {
        "id": "GJb0BxYkhZCI"
      }
    },
    {
      "cell_type": "code",
      "source": [
        "x=10\n",
        "y=3\n",
        "print(x/y)  #除法\n",
        "print(x//y) #求商\n",
        "print(x%y)  #求餘數"
      ],
      "metadata": {
        "colab": {
          "base_uri": "https://localhost:8080/"
        },
        "id": "mmyaLJqNhaM2",
        "outputId": "3649ad91-1f43-41bd-d4a1-a3ccd0dd2f77"
      },
      "execution_count": 16,
      "outputs": [
        {
          "output_type": "stream",
          "name": "stdout",
          "text": [
            "3.3333333333333335\n",
            "3\n",
            "1\n"
          ]
        }
      ]
    },
    {
      "cell_type": "markdown",
      "source": [
        "注意數字的正確性"
      ],
      "metadata": {
        "id": "lC0skTGlhc91"
      }
    },
    {
      "cell_type": "code",
      "source": [
        "x=3.141592627\n",
        "print(x-3.14) #比正確值略小"
      ],
      "metadata": {
        "colab": {
          "base_uri": "https://localhost:8080/"
        },
        "id": "uPe30BuZheSF",
        "outputId": "9002efb7-5dfd-4a5e-be0f-e3f1033f50f6"
      },
      "execution_count": 15,
      "outputs": [
        {
          "output_type": "stream",
          "name": "stdout",
          "text": [
            "0.0015926269999999576\n"
          ]
        }
      ]
    },
    {
      "cell_type": "markdown",
      "source": [
        "算術符號的順序"
      ],
      "metadata": {
        "id": "sFOz6eYghfqk"
      }
    },
    {
      "cell_type": "markdown",
      "source": [
        "()括號 > *次方 > / 乘除 > +-加減"
      ],
      "metadata": {
        "id": "QwkWb7GFhhcS"
      }
    },
    {
      "cell_type": "code",
      "source": [
        "x=(5*(1+2)**2-3+4/2)\n",
        "print(x)"
      ],
      "metadata": {
        "colab": {
          "base_uri": "https://localhost:8080/"
        },
        "id": "iY0wEQsvhjEN",
        "outputId": "a6dafdb8-4b62-4824-93fe-016140d5a8d9"
      },
      "execution_count": 14,
      "outputs": [
        {
          "output_type": "stream",
          "name": "stdout",
          "text": [
            "44.0\n"
          ]
        }
      ]
    },
    {
      "cell_type": "markdown",
      "source": [
        "關係比較"
      ],
      "metadata": {
        "id": "mqN7Ynu_hky9"
      }
    },
    {
      "cell_type": "code",
      "source": [
        "print(10==10)\n",
        "x, y = 10, 20\n",
        "print(x==y)  # == 關係比較\n",
        "x=y          # =  指派值\n",
        "print(x)"
      ],
      "metadata": {
        "colab": {
          "base_uri": "https://localhost:8080/"
        },
        "id": "RVr3HozmhmX5",
        "outputId": "e0457919-a2ca-495a-c322-d85f51ab2efd"
      },
      "execution_count": 13,
      "outputs": [
        {
          "output_type": "stream",
          "name": "stdout",
          "text": [
            "True\n",
            "False\n",
            "20\n"
          ]
        }
      ]
    },
    {
      "cell_type": "markdown",
      "source": [
        "關係運算，以閏年為例"
      ],
      "metadata": {
        "id": "G8O_j_D8hn2T"
      }
    },
    {
      "cell_type": "code",
      "source": [
        "y=2010\n",
        "print(y%4==0 and y%100!=0 or y%400==0)\n",
        "y=2012\n",
        "print(y%4==0 and y%100!=0 or y%400==0)\n",
        "y=1900\n",
        "print(y%4==0 and y%100!=0 or y%400==0)\n",
        "y=2000\n",
        "print(y%4==0 and y%100!=0 or y%400==0)"
      ],
      "metadata": {
        "colab": {
          "base_uri": "https://localhost:8080/"
        },
        "id": "1i6JJX0UhpFv",
        "outputId": "cb385388-a505-4038-8d0d-edc93c66e3cc"
      },
      "execution_count": 12,
      "outputs": [
        {
          "output_type": "stream",
          "name": "stdout",
          "text": [
            "False\n",
            "True\n",
            "False\n",
            "True\n"
          ]
        }
      ]
    },
    {
      "cell_type": "markdown",
      "source": [
        "型態轉換"
      ],
      "metadata": {
        "id": "SMbPYxnXhqHV"
      }
    },
    {
      "cell_type": "code",
      "source": [
        "#小心不同型態之間所得到的結果跟想像不同\n",
        "x=\"must\"\n",
        "print(10*x)\n",
        "print(\"10\"+x)\n",
        "print(10,x)\n"
      ],
      "metadata": {
        "colab": {
          "base_uri": "https://localhost:8080/"
        },
        "id": "BT-QV9kBhtGE",
        "outputId": "56794277-6116-48d3-9930-5f63c87eb150"
      },
      "execution_count": 11,
      "outputs": [
        {
          "output_type": "stream",
          "name": "stdout",
          "text": [
            "mustmustmustmustmustmustmustmustmustmust\n",
            "10must\n",
            "10 must\n"
          ]
        }
      ]
    },
    {
      "cell_type": "code",
      "source": [
        "x=12\n",
        "print(type(x))\n",
        "y=float(x)+0.5 #強制型別轉換\n",
        "print(type(y))\n",
        "print(int(\"123\"))\n",
        "print(int(123.33))\n",
        "print(int(float(\"123.33\")))"
      ],
      "metadata": {
        "colab": {
          "base_uri": "https://localhost:8080/"
        },
        "id": "QcmWN_9phueh",
        "outputId": "ef024ca3-1a6f-477f-864d-5a611a1e3705"
      },
      "execution_count": 10,
      "outputs": [
        {
          "output_type": "stream",
          "name": "stdout",
          "text": [
            "<class 'int'>\n",
            "<class 'float'>\n",
            "123\n",
            "123\n",
            "123\n"
          ]
        }
      ]
    },
    {
      "cell_type": "code",
      "source": [
        "#字串的型別轉換\n",
        "x=10*3.25  #x=32.5\n",
        "y=200*200  #y=40000\n",
        "s=\"The value of x is \" + str(x) + ' and y is ' + str(y)\n",
        "print(s)\n",
        "print(\"The value of x is\", x,\"and y is\", y)\n",
        "print(\"The value of x is {} and y is {}\".format(x,y))\n"
      ],
      "metadata": {
        "colab": {
          "base_uri": "https://localhost:8080/"
        },
        "id": "3Glh_rwPhwSI",
        "outputId": "d3a5539e-2044-4275-9c17-0beea26bfe38"
      },
      "execution_count": 9,
      "outputs": [
        {
          "output_type": "stream",
          "name": "stdout",
          "text": [
            "The value of x is 32.5 and y is 40000\n",
            "The value of x is 32.5 and y is 40000\n",
            "The value of x is 32.5 and y is 40000\n"
          ]
        }
      ]
    },
    {
      "cell_type": "markdown",
      "source": [
        "非內建模組"
      ],
      "metadata": {
        "id": "gF-zZ2mIhxqG"
      }
    },
    {
      "cell_type": "code",
      "source": [
        "import math\n",
        "print(math.pi)\n",
        "print(math.pow(2,3))\n",
        "print(8.3*10.58*math.sin(37.0/180*math.pi)/2)\n",
        "print(math.sqrt(25))"
      ],
      "metadata": {
        "colab": {
          "base_uri": "https://localhost:8080/"
        },
        "id": "TxBjhaBbhzEY",
        "outputId": "16083193-e705-4c0b-a88c-e949ff4eb57f"
      },
      "execution_count": 8,
      "outputs": [
        {
          "output_type": "stream",
          "name": "stdout",
          "text": [
            "3.141592653589793\n",
            "8.0\n",
            "26.423892221536985\n",
            "5.0\n"
          ]
        }
      ]
    },
    {
      "cell_type": "markdown",
      "source": [
        "範例：算圓面積"
      ],
      "metadata": {
        "id": "tpYrhXxIh0iK"
      }
    },
    {
      "cell_type": "code",
      "source": [
        "import math\n",
        "r=input(\"請輸入圓的半徑：\")\n",
        "area=float(r)*float(r)*math.pi\n",
        "print(\"圓面積為：\",area)"
      ],
      "metadata": {
        "colab": {
          "base_uri": "https://localhost:8080/"
        },
        "id": "QhWy7jkch16L",
        "outputId": "bebfd1b3-db81-4ce7-a3be-212b5dee801a"
      },
      "execution_count": 7,
      "outputs": [
        {
          "output_type": "stream",
          "name": "stdout",
          "text": [
            "請輸入圓的半徑：10\n",
            "圓面積為： 314.1592653589793\n"
          ]
        }
      ]
    },
    {
      "cell_type": "markdown",
      "source": [
        "應用題：算矩形面積"
      ],
      "metadata": {
        "id": "nW0VuUiSh3F2"
      }
    },
    {
      "cell_type": "code",
      "source": [
        "r=input(\"請輸入矩形的長：\")\n",
        "w=input(\"請輸入矩形的寬：\")\n",
        "area=float(r)*float(w)\n",
        "print(\"矩形面積為：\",area)"
      ],
      "metadata": {
        "colab": {
          "base_uri": "https://localhost:8080/"
        },
        "id": "p_PCZeFih4ax",
        "outputId": "c04be4bc-e2ac-4cc1-a6cb-6fd51140b39b"
      },
      "execution_count": 6,
      "outputs": [
        {
          "output_type": "stream",
          "name": "stdout",
          "text": [
            "請輸入矩形的長：10\n",
            "請輸入矩形的寬：5\n",
            "矩形面積為： 50.0\n"
          ]
        }
      ]
    },
    {
      "cell_type": "markdown",
      "source": [
        "eval()函數\n",
        "eval會把str型態的表示式，轉換成數學式進行計算"
      ],
      "metadata": {
        "id": "VmVAoGGrh9s5"
      }
    },
    {
      "cell_type": "code",
      "source": [
        "print(eval(\"3+5\"))\n",
        "id=input(\"請輸入產品編號：\")\n",
        "print(type(id))\n",
        "print(type(eval(id)))"
      ],
      "metadata": {
        "colab": {
          "base_uri": "https://localhost:8080/"
        },
        "id": "8rRx7mzbh7h8",
        "outputId": "82ff0061-c1d8-4c55-e6ac-9506cf7db728"
      },
      "execution_count": 5,
      "outputs": [
        {
          "output_type": "stream",
          "name": "stdout",
          "text": [
            "8\n",
            "請輸入產品編號：3\n",
            "<class 'str'>\n",
            "<class 'int'>\n"
          ]
        }
      ]
    },
    {
      "cell_type": "markdown",
      "source": [
        "print的三種方式"
      ],
      "metadata": {
        "id": "kspcnGCmh_3o"
      }
    },
    {
      "cell_type": "markdown",
      "source": [
        "1.透過,區隔要列印的變數 eg: print(\"This\", \"is\", \"a\", \"book\")\n",
        "2.利用字串的str.format() (新式)\n",
        "3.%格式化输出字符串 (舊式)"
      ],
      "metadata": {
        "id": "5S1sDeHriBUc"
      }
    },
    {
      "cell_type": "code",
      "source": [
        "print(\"This\", \"is\", \"a\", \"book\")\n",
        "print(\"This\"+\"is\"+\"a\"+\"book\")"
      ],
      "metadata": {
        "colab": {
          "base_uri": "https://localhost:8080/"
        },
        "id": "a56Rsc6viFIu",
        "outputId": "47f36cde-ca72-4407-e8f3-8978f156311a"
      },
      "execution_count": 4,
      "outputs": [
        {
          "output_type": "stream",
          "name": "stdout",
          "text": [
            "This is a book\n",
            "Thisisabook\n"
          ]
        }
      ]
    },
    {
      "cell_type": "markdown",
      "source": [
        "利用字串的str.format()，在{ }中替代變數的位置\n",
        "eg: print(\"This {} a book\".format(\"is\"))\n",
        "{}中可以設定格式\n",
        "例如：{0:10} (10個空格，靠左對齊)\n",
        "例如：{:,2f} (三個數字用,分隔，小數點後2位數)"
      ],
      "metadata": {
        "id": "LRjajvxziG5X"
      }
    },
    {
      "cell_type": "code",
      "source": [
        "print(\"This {} a book\".format(\"is\"))\n",
        "x=123456.7890\n",
        "print(\"{:.2f}\".format(x))  #小數點.後兩位\n",
        "print(\"{:,.2f}\".format(x)) #,小數點前用,分開"
      ],
      "metadata": {
        "colab": {
          "base_uri": "https://localhost:8080/"
        },
        "id": "5q_BQB5miJk6",
        "outputId": "72abc5e8-5954-4590-9f0e-2d63f080dc6e"
      },
      "execution_count": 3,
      "outputs": [
        {
          "output_type": "stream",
          "name": "stdout",
          "text": [
            "This is a book\n",
            "123456.79\n",
            "123,456.79\n"
          ]
        }
      ]
    },
    {
      "cell_type": "markdown",
      "source": [
        "C語言類似的 % 格式\n",
        "%s (字串) %d (整數) %f (浮點數)\n",
        "%s(字串): %10s (10格靠右對齊，不足的左方補空白), %-10s\n",
        "%f(浮點數): %7.3f (總共7個浮點數位數，含一個小數點，以及三個小數點後數字)"
      ],
      "metadata": {
        "id": "WlV6_utaiLj8"
      }
    },
    {
      "cell_type": "code",
      "source": [
        "print(\"This %-10s a %10s\" % (\"is\", \"book\")) #字串占10格，靠右2格\n",
        "print(\"%7.3f\" % 6789.4333)"
      ],
      "metadata": {
        "colab": {
          "base_uri": "https://localhost:8080/"
        },
        "id": "UOo_s0omiM1j",
        "outputId": "fa297e05-5643-459a-cf7a-2a4426007dee"
      },
      "execution_count": 2,
      "outputs": [
        {
          "output_type": "stream",
          "name": "stdout",
          "text": [
            "This is         a       book\n",
            "6789.433\n"
          ]
        }
      ]
    }
  ]
}